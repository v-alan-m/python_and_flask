{
 "cells": [
  {
   "cell_type": "markdown",
   "metadata": {},
   "source": [
    "# Flask\n",
    "- Django is a full-stack web framework for Python, whereas Flask is a lightweight and extensible Python web framework\n",
    "- Django is developed based on batteries-included approach, whilst in Flask 3rd party libraries are used to customise for each specific project"
   ]
  },
  {
   "cell_type": "markdown",
   "metadata": {},
   "source": [
    "## Virtual Environments\n",
    "- **conda create --name myenv**\n",
    "    - Where myenv is the name that is to be used\n",
    "- Stored in: C:\\Users\\NAME\\Anaconda3\\envs\\\n",
    "- Add specifc packages to be included such as Numpy or Pandas, or a spcific python version:\n",
    "    - **conda create --name myenv python=3.6**\n",
    "- List all the conda enviornments\n",
    "    - **conda env list**"
   ]
  },
  {
   "cell_type": "code",
   "execution_count": null,
   "metadata": {},
   "outputs": [],
   "source": [
    "from flask import Flask\n",
    "\n",
    "app = Flask(__name__)\n",
    "\n",
    "@app.route('/')\n",
    "def index():\n",
    "    return '<h1>Hello Puppy!</h1>'\n",
    "\n",
    "@app.route('/information')\n",
    "def info():\n",
    "    return '<h1>Puppies are cute!</h1>'\n",
    "\n",
    "if __name__ == '__main__':\n",
    "    app.run()"
   ]
  },
  {
   "cell_type": "markdown",
   "metadata": {},
   "source": [
    "## Dynamic Routes\n",
    "- E.g A page for each different user profile"
   ]
  },
  {
   "cell_type": "code",
   "execution_count": null,
   "metadata": {},
   "outputs": [],
   "source": [
    "@app.route('/puppy/<name>')\n",
    "def puppy(name):\n",
    "    # Page for an individual puppy.\n",
    "    return '<h1>This is a page for {}<h1>'.format(name)"
   ]
  },
  {
   "cell_type": "markdown",
   "metadata": {},
   "source": [
    "## Debug\n",
    "-  When visting a url with an error, debug mode will display verbosely the error\n",
    "    - Copy the **Debug pin** to access the ipython console within the debug-browser"
   ]
  },
  {
   "cell_type": "code",
   "execution_count": null,
   "metadata": {},
   "outputs": [],
   "source": [
    "if __name__ == '__main__':\n",
    "    # Never have debug=True for production apps!\n",
    "    app.run(debug=True)"
   ]
  },
  {
   "cell_type": "markdown",
   "metadata": {},
   "source": [
    "- Turn **debug** off (remove dubug=True) when going into production\n",
    "    - To prevent users from seeing the code, in the event of an error"
   ]
  },
  {
   "cell_type": "code",
   "execution_count": null,
   "metadata": {},
   "outputs": [],
   "source": []
  }
 ],
 "metadata": {
  "kernelspec": {
   "display_name": "Python 3",
   "language": "python",
   "name": "python3"
  },
  "language_info": {
   "codemirror_mode": {
    "name": "ipython",
    "version": 3
   },
   "file_extension": ".py",
   "mimetype": "text/x-python",
   "name": "python",
   "nbconvert_exporter": "python",
   "pygments_lexer": "ipython3",
   "version": "3.7.4"
  }
 },
 "nbformat": 4,
 "nbformat_minor": 2
}
