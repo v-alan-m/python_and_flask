{
 "cells": [
  {
   "cell_type": "markdown",
   "metadata": {},
   "source": [
    "## CSS"
   ]
  },
  {
   "cell_type": "markdown",
   "metadata": {},
   "source": [
    "## Basic Tag Styling"
   ]
  },
  {
   "cell_type": "raw",
   "metadata": {},
   "source": [
    "  <head>\n",
    "    <meta charset=\"utf-8\">\n",
    "    <title>CSS Basics</title>\n",
    "    <!-- Connect the html to the css file -->\n",
    "    <link rel=\"stylesheet\" href=\"Part1_master.css\">\n",
    "  </head>"
   ]
  },
  {
   "cell_type": "raw",
   "metadata": {},
   "source": [
    "/*\n",
    "This is a comment\n",
    "*/\n",
    "\n",
    "/*\n",
    "General Form is:\n",
    "\n",
    "Selected Tag {\n",
    "  property: value;\n",
    "}\n",
    "\n",
    "*/\n",
    "\n",
    "/*Colors can be names, or codes*/\n",
    "\n",
    "h1{\n",
    "  color: blue;\n",
    "}\n",
    "\n",
    "li {\n",
    "  color: rgb(0,200,0);\n",
    "}\n",
    "\n",
    "p{\n",
    "  color: #000000;\n",
    "}\n",
    "\n",
    "h4{\n",
    "  color: rgba(13,90,140,0.5)\n",
    "}"
   ]
  },
  {
   "cell_type": "markdown",
   "metadata": {},
   "source": [
    "## Backgrounds and Boarders"
   ]
  },
  {
   "cell_type": "raw",
   "metadata": {},
   "source": [
    "  <body>\n",
    "    <p>This is a paragraph in the body but outside of the div</p>\n",
    "\n",
    "    <div >\n",
    "      <p>I'm inside the div</p>\n",
    "      <p>I'm inside the div too!</p>\n",
    "      <p>Inside the div and <span>in a span</span></p>\n",
    "\n",
    "    </div>\n",
    "\n",
    "  </body>"
   ]
  },
  {
   "cell_type": "raw",
   "metadata": {},
   "source": [
    "body{\n",
    "  /*background: gray;*/\n",
    "  background: url(https://images.unsplash.com/photo-1520741412100-24cd6c2832e5?ixlib=rb-0.3.5&ixid=eyJhcHBfaWQiOjEyMDd9&s=f4348fc639aed74754c68db44972844f&auto=format&fit=crop&w=1500&q=80);\n",
    "  background-repeat:no-repeat;\n",
    "}\n",
    "\n",
    "div{\n",
    "  background: blue;\n",
    "  border: orange;\n",
    "  border-width: thick; /* 10 px */\n",
    "  border-style: dotted;\n",
    "\n",
    "  }\n",
    "\n",
    "p{\n",
    "  color: yellow;\n",
    "}\n",
    "span{\n",
    "  background: red;\n",
    "  color: black;\n",
    "}"
   ]
  },
  {
   "cell_type": "markdown",
   "metadata": {},
   "source": [
    "## Classes and ids\n",
    "- Every HTML element can accept a **class** or **id** attribute\n",
    "- Connect to **class** or **id** from CSS using a special syntax\n",
    "    - **.** - For a class\n",
    "    - **#** - For an id\n",
    "<br><br>\n",
    "- Classes are used to apply a style to multiple different elements\n",
    "- ids are used to apply a style to a single element\n",
    "    - Ids should be used for unique elements"
   ]
  },
  {
   "cell_type": "raw",
   "metadata": {},
   "source": [
    "  <body>\n",
    "    <h3>I'm a h3 Header</h3>\n",
    "\n",
    "    <div class=\"firstDiv\">\n",
    "      <p>I'm inside the first div</p>\n",
    "    </div>\n",
    "\n",
    "    <div class=\"secondDiv\">\n",
    "      <p>I'm inside the second Div</p>\n",
    "    </div>\n",
    "\n",
    "    <p id='singledout'>ids must be unique!</p>\n",
    "\n",
    "  </body>"
   ]
  },
  {
   "cell_type": "raw",
   "metadata": {},
   "source": [
    "/*Lots of Selector Types, check out these links*/\n",
    "\n",
    "/*Class selectors start with a dot . */\n",
    "\n",
    ".firstDiv{\n",
    "  color: blue;\n",
    "}\n",
    "\n",
    ".secondDiv{\n",
    "  background-color: gray;\n",
    "}\n",
    "\n",
    "/* Use an id to single out html elements*/\n",
    "\n",
    "/* id selectors use a hashtag # */\n",
    "#singledout{\n",
    "  color: red;\n",
    "  text-decoration: underline;\n",
    "}\n"
   ]
  },
  {
   "cell_type": "markdown",
   "metadata": {},
   "source": [
    "## Font"
   ]
  },
  {
   "cell_type": "raw",
   "metadata": {},
   "source": [
    "  <body>\n",
    "    <h1>Header 1</h1>\n",
    "    <p>Lorem ipsum dolor sit amet.</p>\n",
    "    <p id='two'>Lorem ipsum dolor sit amet, consectetur adipisicing elit.</p>\n",
    "  </body>"
   ]
  },
  {
   "cell_type": "code",
   "execution_count": null,
   "metadata": {},
   "outputs": [],
   "source": []
  }
 ],
 "metadata": {
  "kernelspec": {
   "display_name": "Python 3",
   "language": "python",
   "name": "python3"
  },
  "language_info": {
   "codemirror_mode": {
    "name": "ipython",
    "version": 3
   },
   "file_extension": ".py",
   "mimetype": "text/x-python",
   "name": "python",
   "nbconvert_exporter": "python",
   "pygments_lexer": "ipython3",
   "version": "3.7.4"
  }
 },
 "nbformat": 4,
 "nbformat_minor": 2
}
